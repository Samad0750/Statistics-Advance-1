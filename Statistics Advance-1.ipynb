{
 "cells": [
  {
   "cell_type": "markdown",
   "id": "15af18ce-ade5-4f55-9978-5163b3565c0a",
   "metadata": {},
   "source": [
    "## QUESTION 1\n",
    "\n",
    "A function that defines the relationship between a random variable (continous)and its probability, such that one  can find the probability of the variable using the function, is called a Probability Density Function (PDF) in statistics."
   ]
  },
  {
   "cell_type": "markdown",
   "id": "256c827b-3669-438c-be24-c436273b0e5e",
   "metadata": {},
   "source": [
    "## QUESTION 2\n",
    "THERE ARE 3 TYPES OF PDF:-\n",
    "\n",
    "1.PROBABILITY MASS FUNCTION\n",
    "2. PROBABILITY  DENSITY FUNCTION\n",
    "3. CUMLATIVE DENSITY FUNCTION"
   ]
  },
  {
   "cell_type": "code",
   "execution_count": 3,
   "id": "441832ec-6143-41e2-9bd2-ae268e2e7325",
   "metadata": {},
   "outputs": [],
   "source": [
    "## QUESTION 3\n",
    "import numpy as np\n",
    "from scipy import stats"
   ]
  },
  {
   "cell_type": "markdown",
   "id": "6fc33f5b-9bcd-4b14-9597-4620b911becd",
   "metadata": {},
   "source": [
    "## let us consider a variable data \n",
    "mean=np.mean(data)\n",
    "std=np.std(data)\n",
    "\n",
    "probability_pdf = norm.pdf(x,loc=mean,scale=std)\n",
    "print(probability_pdf)"
   ]
  },
  {
   "cell_type": "markdown",
   "id": "fe264622-72c7-40c1-b371-1f9aa66b0d23",
   "metadata": {},
   "source": [
    "## QUESTION 4\n",
    "Binomial Probability Distribution Function (PDF) is a probability density function(for continous random variable)\n",
    "having parameters p(probability of a success) and q=1−p (probability of a failure) with mean np and variance npq where n is the sample size.\n",
    "\n",
    "ex:-1. tossing a coin n times\n",
    "2.student is pass or fail in his/her semester.\n",
    "\n"
   ]
  },
  {
   "cell_type": "code",
   "execution_count": 39,
   "id": "cfd2748b-0c1d-452b-831d-9634a741f361",
   "metadata": {},
   "outputs": [],
   "source": [
    "## QUESTION 5\n",
    "import numpy as np\n",
    "n=1000\n",
    "p=0.4"
   ]
  },
  {
   "cell_type": "code",
   "execution_count": 40,
   "id": "d886219e-5957-4fb1-bbb4-70c5a3f58591",
   "metadata": {},
   "outputs": [],
   "source": [
    "random_sample=np.random.binomial(1,p,n)\n"
   ]
  },
  {
   "cell_type": "code",
   "execution_count": 41,
   "id": "0f16088a-ac54-4866-8394-e902ca1b42a9",
   "metadata": {},
   "outputs": [],
   "source": [
    "import matplotlib.pyplot as plt"
   ]
  },
  {
   "cell_type": "code",
   "execution_count": 42,
   "id": "eafb0a88-a731-4b30-9aab-4c730b1263f0",
   "metadata": {},
   "outputs": [
    {
     "data": {
      "text/plain": [
       "(array([593.,   0.,   0.,   0.,   0.,   0.,   0.,   0.,   0., 407.]),\n",
       " array([0. , 0.1, 0.2, 0.3, 0.4, 0.5, 0.6, 0.7, 0.8, 0.9, 1. ]),\n",
       " <BarContainer object of 10 artists>)"
      ]
     },
     "execution_count": 42,
     "metadata": {},
     "output_type": "execute_result"
    },
    {
     "data": {
      "image/png": "[encoded data removed]",
      "text/plain": [
       "<Figure size 640x480 with 1 Axes>"
      ]
     },
     "metadata": {},
     "output_type": "display_data"
    }
   ],
   "source": [
    "plt.hist(random_sample)"
   ]
  },
  {
   "cell_type": "code",
   "execution_count": null,
   "id": "5c546569-871c-4bc2-9f68-2692a6e40e9e",
   "metadata": {},
   "outputs": [],
   "source": [
    "## QUESTIOON 6\n"
   ]
  },
  {
   "cell_type": "markdown",
   "id": "a073ee55-5f05-4835-ac1e-8193151ea839",
   "metadata": {},
   "source": [
    "## QUESTION 7\n",
    "In binomial dist. n is finite while  in poisson dist. n is too large(infinite).\n",
    "in poisson dist. the probability of success (p) is very small.\n",
    "\n",
    "The Poisson distribution is the limit of the binomial distribution\n",
    "for large N.\n"
   ]
  },
  {
   "cell_type": "code",
   "execution_count": 50,
   "id": "9c008262-b77d-40cf-80c3-0a4a5b69b69a",
   "metadata": {},
   "outputs": [
    {
     "name": "stdout",
     "output_type": "stream",
     "text": [
      "5.109 4.955119000000001\n"
     ]
    }
   ],
   "source": [
    "## QUESTION 8\n",
    "mean = 5\n",
    "sample_size = 1000\n",
    "random_sample = np.random.poisson(mean, sample_size)\n",
    "\n",
    "sample_mean = np.mean(random_sample)\n",
    "sample_variance = np.var(random_sample)\n",
    "print(sample_mean,sample_variance)\n"
   ]
  },
  {
   "cell_type": "markdown",
   "id": "9352c88a-a909-42c7-a95e-1232acab1ac6",
   "metadata": {},
   "source": [
    "## QUESTION 9\n",
    "In binomial distribution Mean > Variance while in poisson distribution mean = variance."
   ]
  },
  {
   "cell_type": "markdown",
   "id": "19e7bf8c-e8af-4018-afec-3ca2b9bc0df2",
   "metadata": {},
   "source": [
    "## QUESTION 10\n",
    "IN 3RD STANDARD DEVIATION(AWAY FROM THE MEAN)."
   ]
  },
  {
   "cell_type": "code",
   "execution_count": null,
   "id": "0cd29d38-8d0b-4131-9efd-86d3e4d0dde7",
   "metadata": {},
   "outputs": [],
   "source": []
  },
  {
   "cell_type": "code",
   "execution_count": null,
   "id": "a4ce81c3-bc2d-45ed-af40-d94ef1dc016f",
   "metadata": {},
   "outputs": [],
   "source": []
  },
  {
   "cell_type": "code",
   "execution_count": null,
   "id": "08dc7d6d-0882-4122-b424-82cd3adf50eb",
   "metadata": {},
   "outputs": [],
   "source": []
  }
 ],
 "metadata": {
  "kernelspec": {
   "display_name": "Python 3 (ipykernel)",
   "language": "python",
   "name": "python3"
  },
  "language_info": {
   "codemirror_mode": {
    "name": "ipython",
    "version": 3
   },
   "file_extension": ".py",
   "mimetype": "text/x-python",
   "name": "python",
   "nbconvert_exporter": "python",
   "pygments_lexer": "ipython3",
   "version": "3.10.8"
  }
 },
 "nbformat": 4,
 "nbformat_minor": 5
}
